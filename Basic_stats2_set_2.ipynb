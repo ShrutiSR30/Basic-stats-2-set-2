{
  "nbformat": 4,
  "nbformat_minor": 0,
  "metadata": {
    "colab": {
      "name": "Basic stats2 -set 2",
      "provenance": [],
      "collapsed_sections": []
    },
    "kernelspec": {
      "name": "python3",
      "display_name": "Python 3"
    },
    "language_info": {
      "name": "python"
    }
  },
  "cells": [
    {
      "cell_type": "markdown",
      "metadata": {
        "id": "o6OzK6EqnuEH"
      },
      "source": [
        "# Topics: Normal distribution, Functions of Random Variables\n"
      ]
    },
    {
      "cell_type": "markdown",
      "metadata": {
        "id": "DVQ_t1Vaohac"
      },
      "source": [
        "1.\tThe time required for servicing transmissions is normally distributed with  = 45 minutes and  = 8 minutes. The service manager plans to have work begin on the transmission of a customer’s car 10 minutes after the car is dropped off and the customer is told that the car will be ready within 1 hour from drop-off. What is the probability that the service manager cannot meet his commitment? \n",
        "\n",
        "A.\t0.3875   \n",
        "B.\t0.2676   \n",
        "C.\t0.5   \n",
        "D.\t0.6987 \n"
      ]
    },
    {
      "cell_type": "markdown",
      "metadata": {
        "id": "6JztSyLSq7_C"
      },
      "source": [
        "ANS: 0.2676"
      ]
    },
    {
      "cell_type": "markdown",
      "metadata": {
        "id": "chXzEiWerPHm"
      },
      "source": [
        "2.\tThe current age (in years) of 400 clerical employees at an insurance claims processing center is normally distributed with mean  = 38 and Standard deviation  =6. For each statement below, please specify True/False. If false, briefly explain why.\n",
        "A.\tMore employees at the processing center are older than 44 than between 38 and 44.\n",
        "B.\tA training program for employees under the age of 30 at the center would be expected to attract about 36 employees.\n"
      ]
    },
    {
      "cell_type": "markdown",
      "metadata": {
        "id": "vlRyHTp4rtnI"
      },
      "source": [
        "Given : The current age (in years) of 400 clerical employees at an insurance claims processing center is normally distributed with mean 38 & SD = 6\n",
        "\n",
        "\n",
        "To find : True/False. for A. More employees at the processing center are older than 44 than between 38 and 44. B. A training program for employees under the age of 30 at the center would be expected to attract about 36 employees"
      ]
    },
    {
      "cell_type": "markdown",
      "metadata": {
        "id": "t4eEwZK7rul_"
      },
      "source": [
        "Solution:\n",
        "\n",
        "Mean = 38\n",
        "\n",
        "SD = 6\n",
        "\n",
        "Z score = (Value - Mean)/SD  \n",
        "\n",
        "Z score for 44  = (44 - 38)/6  = 1  =>  84.13 %  \n",
        "\n",
        "=> People above 44 age = 100 - 84.13 =  15.87%  ≈  63    out of 400\n",
        "\n",
        "Z score for 38  = (38 - 38)/6 = 0 => 50%\n",
        "\n",
        "Hence People between 38 & 44  age = 84.13 - 50 = 34.13 % ≈  137 out of 400\n",
        "\n",
        "Hence More employees at the processing center are older than 44 than between 38 and 44. is FALSE\n",
        "\n",
        "Z score for 30  = (30 - 38)/6 =  -1.33  =  9.15  %   ≈ 36 out of 400\n",
        "\n",
        "Hence A training program for employees under the age of 30 at the center would be expected to attract about 36 employees - TRUE"
      ]
    },
    {
      "cell_type": "markdown",
      "metadata": {
        "id": "dTe2WslAsEUO"
      },
      "source": [
        "3.\tIf X1~ N(μ, σ2) and X2 ~ N(μ, σ2) are iidnormal random variables, then what is the difference between 2 X1 and X1 + X2? Discuss both their distributions and parameters.       "
      ]
    },
    {
      "cell_type": "markdown",
      "metadata": {
        "id": "2YYd-x8PsJbh"
      },
      "source": [
        "4.\tLet X ~ N(100, 202). Find two values, a andb, symmetric about the mean, such that the probability of the random variable taking a value between them is 0.99. \n",
        "\n",
        "A.\t90.5, 105.9 \n",
        "B.\t80.2, 119.8 \n",
        "C.\t22, 78 \n",
        "D.\t48.5, 151.5 \n",
        "E.\t90.1, 109.9\n",
        "     \n",
        "\n",
        "ANS: D.48.5,151.5"
      ]
    },
    {
      "cell_type": "markdown",
      "metadata": {
        "id": "DZveGjPGuj1F"
      },
      "source": [
        "5.\tConsider a company that has two different divisions. The annual profits from the two divisions are independent and have distributions Profit1 ~ N(5, 32) and Profit2 ~ N(7, 42) respectively. Both the profits are in $ Million. Answer the following questions about the total profit of the company in Rupees. Assume that $1 = Rs. 45\n",
        "A.\tSpecify a Rupee range (centered on the mean) such that it contains 95% probability for the annual profit of the company.\n",
        "B.\tSpecify the 5th percentile of profit (in Rupees) for the company\n",
        "C.\tWhich of the two divisions has a larger probability of making a loss in a given year?\n",
        "\n",
        "\n",
        "Step-by-step explanation:\n",
        "\n",
        "Total profit = profit 1 + profit 2 = P\n",
        "\n",
        "hence P ~ N(12,74) = \n",
        "\n",
        "A ) Specifying a Rupee range ( centered on the mean ) that contains 95% probability for annual profit of the company\n",
        "\n",
        "$13.41 = Rs 603.68\n",
        "\n",
        "B) specifying the 5th percentile of profit\n",
        "\n",
        "p = $10.59 ≈ Rs 476.33\n",
        "\n",
        "C) The  division that has a larger probability of making a loss in a given year is the first division"
      ]
    }
  ]
}